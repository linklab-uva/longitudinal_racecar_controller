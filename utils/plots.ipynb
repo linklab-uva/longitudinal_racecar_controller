{
 "cells": [
  {
   "cell_type": "code",
   "execution_count": 13,
   "metadata": {},
   "outputs": [],
   "source": [
    "import pandas as pd\n",
    "import numpy as np\n",
    "from math import trunc\n",
    "import matplotlib.pyplot as plt\n",
    "%matplotlib qt\n",
    "import argparse, sys, os\n",
    "import pygeodesy\n",
    "from scipy.signal import butter, filtfilt, resample\n",
    "from scipy.spatial.distance import cdist\n",
    "from scipy.interpolate import make_interp_spline, make_smoothing_spline, BSpline\n",
    "from scipy.ndimage import uniform_filter1d, spline_filter1d\n",
    "from scipy.ndimage import gaussian_filter1d"
   ]
  },
  {
   "cell_type": "code",
   "execution_count": 14,
   "metadata": {},
   "outputs": [
    {
     "name": "stdout",
     "output_type": "stream",
     "text": [
      "['__time', '/raptor_dbw_interface/accelerator_pedal_report/control_type/value', '/raptor_dbw_interface/accelerator_pedal_report/driver_activity', '/raptor_dbw_interface/accelerator_pedal_report/enabled', '/raptor_dbw_interface/accelerator_pedal_report/fault_accel_pedal_system', '/raptor_dbw_interface/accelerator_pedal_report/fault_ch1', '/raptor_dbw_interface/accelerator_pedal_report/fault_ch2', '/raptor_dbw_interface/accelerator_pedal_report/header/stamp/nanosec', '/raptor_dbw_interface/accelerator_pedal_report/header/stamp/sec', '/raptor_dbw_interface/accelerator_pedal_report/ignore_driver', '/raptor_dbw_interface/accelerator_pedal_report/pedal_input', '/raptor_dbw_interface/accelerator_pedal_report/pedal_output', '/raptor_dbw_interface/accelerator_pedal_report/rolling_counter', '/raptor_dbw_interface/accelerator_pedal_report/torque_actual', '/raptor_dbw_interface/brake_2_report/estimated_road_slope', '/raptor_dbw_interface/brake_2_report/front_brake_pressure', '/raptor_dbw_interface/brake_2_report/header/stamp/nanosec', '/raptor_dbw_interface/brake_2_report/header/stamp/sec', '/raptor_dbw_interface/brake_2_report/rear_brake_pressure', '/raptor_dbw_interface/brake_2_report/rolling_counter', '/raptor_dbw_interface/brake_2_report/speed_set_point', '/raptor_dbw_interface/motec_report/ambient_temperature', '/raptor_dbw_interface/motec_report/boost_aim', '/raptor_dbw_interface/motec_report/boost_aim_state', '/raptor_dbw_interface/motec_report/boost_pressure', '/raptor_dbw_interface/motec_report/coolant_pressure_warning', '/raptor_dbw_interface/motec_report/coolant_temperature', '/raptor_dbw_interface/motec_report/coolant_temperature_warning', '/raptor_dbw_interface/motec_report/crankcase_pressure_warning', '/raptor_dbw_interface/motec_report/driver_switch_1', '/raptor_dbw_interface/motec_report/driver_switch_2', '/raptor_dbw_interface/motec_report/driver_switch_3', '/raptor_dbw_interface/motec_report/ecu_battery_voltage', '/raptor_dbw_interface/motec_report/ecu_up_time', '/raptor_dbw_interface/motec_report/engine_efficiency', '/raptor_dbw_interface/motec_report/engine_load', '/raptor_dbw_interface/motec_report/engine_oil_pressure', '/raptor_dbw_interface/motec_report/engine_oil_pressure_warning', '/raptor_dbw_interface/motec_report/engine_oil_temperature', '/raptor_dbw_interface/motec_report/engine_oil_temperature_warning', '/raptor_dbw_interface/motec_report/engine_run_time', '/raptor_dbw_interface/motec_report/engine_run_time_total', '/raptor_dbw_interface/motec_report/engine_speed', '/raptor_dbw_interface/motec_report/engine_speed_limit_state', '/raptor_dbw_interface/motec_report/engine_speed_reference_state', '/raptor_dbw_interface/motec_report/engine_speed_warning', '/raptor_dbw_interface/motec_report/engine_state', '/raptor_dbw_interface/motec_report/exhaust_lambda', '/raptor_dbw_interface/motec_report/fl_wheel_speed_sensor_fault', '/raptor_dbw_interface/motec_report/fr_wheel_speed_sensor_fault', '/raptor_dbw_interface/motec_report/fuel_pressure_direct_b1', '/raptor_dbw_interface/motec_report/fuel_pressure_direct_b1_aim', '/raptor_dbw_interface/motec_report/fuel_pressure_direct_b1_control', '/raptor_dbw_interface/motec_report/fuel_pressure_sensor', '/raptor_dbw_interface/motec_report/fuel_pressure_warning', '/raptor_dbw_interface/motec_report/fuel_pump_state', '/raptor_dbw_interface/motec_report/fuel_used', '/raptor_dbw_interface/motec_report/gear', '/raptor_dbw_interface/motec_report/gear_100hz', '/raptor_dbw_interface/motec_report/gear_shift', '/raptor_dbw_interface/motec_report/gear_shift_req', '/raptor_dbw_interface/motec_report/gearratio', '/raptor_dbw_interface/motec_report/header/stamp/nanosec', '/raptor_dbw_interface/motec_report/header/stamp/sec', '/raptor_dbw_interface/motec_report/inlet_air_temperature', '/raptor_dbw_interface/motec_report/inlet_manifold_pressure', '/raptor_dbw_interface/motec_report/knock_state', '/raptor_dbw_interface/motec_report/knock_warning', '/raptor_dbw_interface/motec_report/launch_state', '/raptor_dbw_interface/motec_report/rl_wheel_speed_sensor_fault', '/raptor_dbw_interface/motec_report/rr_wheel_speed_sensor_fault', '/raptor_dbw_interface/motec_report/throttle_aim_state', '/raptor_dbw_interface/motec_report/throttle_pedal', '/raptor_dbw_interface/motec_report/throttle_position', '/raptor_dbw_interface/motec_report/torque_wheels', '/raptor_dbw_interface/motec_report/vehicle_speed', '/raptor_dbw_interface/motec_report/warning_source', '/raptor_dbw_interface/motec_report/wheel_speed_front_left', '/raptor_dbw_interface/motec_report/wheel_speed_front_right', '/raptor_dbw_interface/motec_report/wheel_speed_rear_left', '/raptor_dbw_interface/motec_report/wheel_speed_rear_right', '/raptor_dbw_interface/pt_report/current_gear', '/raptor_dbw_interface/pt_report/engine_coolant_pressure', '/raptor_dbw_interface/pt_report/engine_coolant_temperature', '/raptor_dbw_interface/pt_report/engine_oil_pressure', '/raptor_dbw_interface/pt_report/engine_oil_temperature', '/raptor_dbw_interface/pt_report/engine_on_status', '/raptor_dbw_interface/pt_report/engine_rpm', '/raptor_dbw_interface/pt_report/engine_run_switch_status', '/raptor_dbw_interface/pt_report/fuel_level', '/raptor_dbw_interface/pt_report/fuel_pressure', '/raptor_dbw_interface/pt_report/gear_shift_status', '/raptor_dbw_interface/pt_report/lambda_sensor', '/raptor_dbw_interface/pt_report/map_sensor', '/raptor_dbw_interface/pt_report/stamp/nanosec', '/raptor_dbw_interface/pt_report/stamp/sec', '/raptor_dbw_interface/pt_report/throttle_position', '/raptor_dbw_interface/pt_report/torque_wheels', '/raptor_dbw_interface/pt_report/transmission_accumulator_pressure', '/raptor_dbw_interface/pt_report/transmission_oil_pressure', '/raptor_dbw_interface/pt_report/transmission_oil_temperature', '/raptor_dbw_interface/pt_report/vehicle_speed_kmph', '/raptor_dbw_interface/tire_report/fl_damper_linear_potentiometer', '/raptor_dbw_interface/tire_report/fl_tire_pressure', '/raptor_dbw_interface/tire_report/fl_tire_pressure_gauge', '/raptor_dbw_interface/tire_report/fl_tire_temperature[0]', '/raptor_dbw_interface/tire_report/fl_tire_temperature[10]', '/raptor_dbw_interface/tire_report/fl_tire_temperature[11]', '/raptor_dbw_interface/tire_report/fl_tire_temperature[12]', '/raptor_dbw_interface/tire_report/fl_tire_temperature[13]', '/raptor_dbw_interface/tire_report/fl_tire_temperature[14]', '/raptor_dbw_interface/tire_report/fl_tire_temperature[15]', '/raptor_dbw_interface/tire_report/fl_tire_temperature[1]', '/raptor_dbw_interface/tire_report/fl_tire_temperature[2]', '/raptor_dbw_interface/tire_report/fl_tire_temperature[3]', '/raptor_dbw_interface/tire_report/fl_tire_temperature[4]', '/raptor_dbw_interface/tire_report/fl_tire_temperature[5]', '/raptor_dbw_interface/tire_report/fl_tire_temperature[6]', '/raptor_dbw_interface/tire_report/fl_tire_temperature[7]', '/raptor_dbw_interface/tire_report/fl_tire_temperature[8]', '/raptor_dbw_interface/tire_report/fl_tire_temperature[9]', '/raptor_dbw_interface/tire_report/fl_wheel_load', '/raptor_dbw_interface/tire_report/fr_damper_linear_potentiometer', '/raptor_dbw_interface/tire_report/fr_tire_pressure', '/raptor_dbw_interface/tire_report/fr_tire_pressure_gauge', '/raptor_dbw_interface/tire_report/fr_tire_temperature[0]', '/raptor_dbw_interface/tire_report/fr_tire_temperature[10]', '/raptor_dbw_interface/tire_report/fr_tire_temperature[11]', '/raptor_dbw_interface/tire_report/fr_tire_temperature[12]', '/raptor_dbw_interface/tire_report/fr_tire_temperature[13]', '/raptor_dbw_interface/tire_report/fr_tire_temperature[14]', '/raptor_dbw_interface/tire_report/fr_tire_temperature[15]', '/raptor_dbw_interface/tire_report/fr_tire_temperature[1]', '/raptor_dbw_interface/tire_report/fr_tire_temperature[2]', '/raptor_dbw_interface/tire_report/fr_tire_temperature[3]', '/raptor_dbw_interface/tire_report/fr_tire_temperature[4]', '/raptor_dbw_interface/tire_report/fr_tire_temperature[5]', '/raptor_dbw_interface/tire_report/fr_tire_temperature[6]', '/raptor_dbw_interface/tire_report/fr_tire_temperature[7]', '/raptor_dbw_interface/tire_report/fr_tire_temperature[8]', '/raptor_dbw_interface/tire_report/fr_tire_temperature[9]', '/raptor_dbw_interface/tire_report/fr_wheel_load', '/raptor_dbw_interface/tire_report/rl_damper_linear_potentiometer', '/raptor_dbw_interface/tire_report/rl_tire_pressure', '/raptor_dbw_interface/tire_report/rl_tire_pressure_gauge', '/raptor_dbw_interface/tire_report/rl_tire_temperature[0]', '/raptor_dbw_interface/tire_report/rl_tire_temperature[10]', '/raptor_dbw_interface/tire_report/rl_tire_temperature[11]', '/raptor_dbw_interface/tire_report/rl_tire_temperature[12]', '/raptor_dbw_interface/tire_report/rl_tire_temperature[13]', '/raptor_dbw_interface/tire_report/rl_tire_temperature[14]', '/raptor_dbw_interface/tire_report/rl_tire_temperature[15]', '/raptor_dbw_interface/tire_report/rl_tire_temperature[1]', '/raptor_dbw_interface/tire_report/rl_tire_temperature[2]', '/raptor_dbw_interface/tire_report/rl_tire_temperature[3]', '/raptor_dbw_interface/tire_report/rl_tire_temperature[4]', '/raptor_dbw_interface/tire_report/rl_tire_temperature[5]', '/raptor_dbw_interface/tire_report/rl_tire_temperature[6]', '/raptor_dbw_interface/tire_report/rl_tire_temperature[7]', '/raptor_dbw_interface/tire_report/rl_tire_temperature[8]', '/raptor_dbw_interface/tire_report/rl_tire_temperature[9]', '/raptor_dbw_interface/tire_report/rl_wheel_load', '/raptor_dbw_interface/tire_report/rr_damper_linear_potentiometer', '/raptor_dbw_interface/tire_report/rr_tire_pressure', '/raptor_dbw_interface/tire_report/rr_tire_pressure_gauge', '/raptor_dbw_interface/tire_report/rr_tire_temperature[0]', '/raptor_dbw_interface/tire_report/rr_tire_temperature[10]', '/raptor_dbw_interface/tire_report/rr_tire_temperature[11]', '/raptor_dbw_interface/tire_report/rr_tire_temperature[12]', '/raptor_dbw_interface/tire_report/rr_tire_temperature[13]', '/raptor_dbw_interface/tire_report/rr_tire_temperature[14]', '/raptor_dbw_interface/tire_report/rr_tire_temperature[15]', '/raptor_dbw_interface/tire_report/rr_tire_temperature[1]', '/raptor_dbw_interface/tire_report/rr_tire_temperature[2]', '/raptor_dbw_interface/tire_report/rr_tire_temperature[3]', '/raptor_dbw_interface/tire_report/rr_tire_temperature[4]', '/raptor_dbw_interface/tire_report/rr_tire_temperature[5]', '/raptor_dbw_interface/tire_report/rr_tire_temperature[6]', '/raptor_dbw_interface/tire_report/rr_tire_temperature[7]', '/raptor_dbw_interface/tire_report/rr_tire_temperature[8]', '/raptor_dbw_interface/tire_report/rr_tire_temperature[9]', '/raptor_dbw_interface/tire_report/rr_wheel_load', '/raptor_dbw_interface/tire_report/stamp/nanosec', '/raptor_dbw_interface/tire_report/stamp/sec', '/raptor_dbw_interface/wheel_speed_report/front_left', '/raptor_dbw_interface/wheel_speed_report/front_right', '/raptor_dbw_interface/wheel_speed_report/header/stamp/nanosec', '/raptor_dbw_interface/wheel_speed_report/header/stamp/sec', '/raptor_dbw_interface/wheel_speed_report/rear_left', '/raptor_dbw_interface/wheel_speed_report/rear_right']\n",
      "['__time', '/accel/filtered/accel/accel/angular/x', '/accel/filtered/accel/accel/angular/y', '/accel/filtered/accel/accel/angular/z', '/accel/filtered/accel/accel/linear/x', '/accel/filtered/accel/accel/linear/y', '/accel/filtered/accel/accel/linear/z', '/accel/filtered/accel/covariance[0]', '/accel/filtered/accel/covariance[10]', '/accel/filtered/accel/covariance[11]', '/accel/filtered/accel/covariance[12]', '/accel/filtered/accel/covariance[13]', '/accel/filtered/accel/covariance[14]', '/accel/filtered/accel/covariance[15]', '/accel/filtered/accel/covariance[16]', '/accel/filtered/accel/covariance[17]', '/accel/filtered/accel/covariance[18]', '/accel/filtered/accel/covariance[19]', '/accel/filtered/accel/covariance[1]', '/accel/filtered/accel/covariance[20]', '/accel/filtered/accel/covariance[21]', '/accel/filtered/accel/covariance[22]', '/accel/filtered/accel/covariance[23]', '/accel/filtered/accel/covariance[24]', '/accel/filtered/accel/covariance[25]', '/accel/filtered/accel/covariance[26]', '/accel/filtered/accel/covariance[27]', '/accel/filtered/accel/covariance[28]', '/accel/filtered/accel/covariance[29]', '/accel/filtered/accel/covariance[2]', '/accel/filtered/accel/covariance[30]', '/accel/filtered/accel/covariance[31]', '/accel/filtered/accel/covariance[32]', '/accel/filtered/accel/covariance[33]', '/accel/filtered/accel/covariance[34]', '/accel/filtered/accel/covariance[35]', '/accel/filtered/accel/covariance[3]', '/accel/filtered/accel/covariance[4]', '/accel/filtered/accel/covariance[5]', '/accel/filtered/accel/covariance[6]', '/accel/filtered/accel/covariance[7]', '/accel/filtered/accel/covariance[8]', '/accel/filtered/accel/covariance[9]', '/accel/filtered/header/stamp/nanosec', '/accel/filtered/header/stamp/sec', '/joystick/accelerator_cmd/data', '/joystick/brake_cmd/data', '/joystick/gear_cmd/data', '/joystick/steering_cmd/data', '/novatel_bottom/rawimu/angular_velocity/x', '/novatel_bottom/rawimu/angular_velocity/y', '/novatel_bottom/rawimu/angular_velocity/z', '/novatel_bottom/rawimu/gnss_seconds', '/novatel_bottom/rawimu/gnss_week', '/novatel_bottom/rawimu/header/stamp/nanosec', '/novatel_bottom/rawimu/header/stamp/sec', '/novatel_bottom/rawimu/linear_acceleration/x', '/novatel_bottom/rawimu/linear_acceleration/y', '/novatel_bottom/rawimu/linear_acceleration/z', '/novatel_bottom/rawimu/nov_header/gps_week_milliseconds', '/novatel_bottom/rawimu/nov_header/gps_week_number', '/novatel_bottom/rawimu/nov_header/idle_time', '/novatel_bottom/rawimu/nov_header/message_id', '/novatel_bottom/rawimu/nov_header/message_type', '/novatel_bottom/rawimu/nov_header/sequence_number', '/novatel_bottom/rawimu/nov_header/time_status', '/novatel_bottom/rawimu/status', '/vehicle/desired_velocity_readout/data', '/vehicle/set_desired_velocity/data', '/velocity/data']\n"
     ]
    }
   ],
   "source": [
    "# current_path = os.path.dirname(__file__)\n",
    "\n",
    "#put your relative path to the csv files\n",
    "raptor_msgs = pd.read_csv('../data/lvms_brake_test_raptor_msgs.csv')\n",
    "imu_msgs = pd.read_csv('../data/lvms_brake_test_imu_inputs.csv')\n",
    "print(list(raptor_msgs.columns))\n",
    "print(list(imu_msgs.columns))\n"
   ]
  },
  {
   "cell_type": "code",
   "execution_count": 15,
   "metadata": {},
   "outputs": [],
   "source": [
    "def normalize_data(input_times, data):\n",
    "    input_times = input_times[~np.isnan(data)]\n",
    "    data = data[~np.isnan(data)]\n",
    "    return np.column_stack([input_times, data])"
   ]
  },
  {
   "cell_type": "code",
   "execution_count": 38,
   "metadata": {},
   "outputs": [],
   "source": [
    "raptor_times = np.array(raptor_msgs['__time'])\n",
    "imu_times = np.array(imu_msgs['__time'])\n",
    "\n",
    "raptor_times = np.round(raptor_times - raptor_times[0], 3)\n",
    "imu_times = np.round(imu_times - imu_times[0], 3)\n",
    "\n",
    "KPH2MPH = 0.621371\n",
    "rear_right_wheel_speed = np.array(raptor_msgs['/raptor_dbw_interface/wheel_speed_report/rear_right'])\n",
    "rear_left_wheel_speed = np.array(raptor_msgs['/raptor_dbw_interface/wheel_speed_report/rear_left'])\n",
    "rear_brake_presure = np.array(raptor_msgs['/raptor_dbw_interface/brake_2_report/rear_brake_pressure'])\n",
    "front_brake_pressure = np.array(raptor_msgs['/raptor_dbw_interface/brake_2_report/front_brake_pressure'])\n",
    "accel_x = normalize_data(imu_times, np.array(imu_msgs['/accel/filtered/accel/accel/linear/x']))\n",
    "rear_brake_pressure = normalize_data(raptor_times, rear_brake_presure)\n",
    "front_brake_pressure = normalize_data(raptor_times, front_brake_pressure)\n",
    "rear_avg_wheel_speed = (rear_right_wheel_speed + rear_left_wheel_speed) / 2\n",
    "desired_vel = np.array(imu_msgs['/vehicle/desired_velocity_readout/data'])\n",
    "rear_avg_wheel_speed = normalize_data(raptor_times, rear_avg_wheel_speed * KPH2MPH)\n",
    "desired_vel = normalize_data(imu_times, desired_vel)\n",
    "\n",
    "filtered_rear_avg_wheel_speed = np.array(rear_avg_wheel_speed)\n",
    "filtered_rear_avg_wheel_speed[:, 1] = gaussian_filter1d(rear_avg_wheel_speed[:, 1], 10)"
   ]
  },
  {
   "cell_type": "code",
   "execution_count": 22,
   "metadata": {},
   "outputs": [],
   "source": [
    "#Wheel speed with residuals\n",
    "f2, axs = plt.subplots(2, 1, sharex=True)\n",
    "f2.set_figwidth(10)\n",
    "f2.set_figheight(5)\n",
    "axs[0].scatter(rear_avg_wheel_speed[:, 0], rear_avg_wheel_speed[:, 1], s=.5, alpha=0.5, c='orange', label=\"Rear Avg Velocity\")\n",
    "axs[0].plot(filtered_rear_avg_wheel_speed[:, 0], filtered_rear_avg_wheel_speed[:, 1], 'b', label=\"Filtered Velocity\")\n",
    "axs[0].plot(desired_vel[:, 0], desired_vel[:, 1], 'r', label=\"Desired Velocity\")\n",
    "axs[0].legend()\n",
    "axs[0].set_ylabel(\"Speed (MPH)\")\n",
    "\n",
    "axs[1].plot(filtered_rear_avg_wheel_speed[4:-2, 0], desired_vel[:, 1] - filtered_rear_avg_wheel_speed[4:-2, 1], 'b', label=\"Filtered Velocity\")\n",
    "axs[1].legend()\n",
    "axs[1].set_ylabel(\"Speed (MPH)\")\n",
    "axs[1].set_xlabel(\"Time (Seconds)\")\n",
    "axs[1].set_ylim(15, -15)\n",
    "\n",
    "# print(len(filtered_rear_avg_wheel_speed[4:-2, 0]))\n",
    "# print(len(desired_vel[:, 0]))\n",
    "plt.show()"
   ]
  },
  {
   "cell_type": "code",
   "execution_count": 40,
   "metadata": {},
   "outputs": [],
   "source": [
    "\n",
    "#Deceleration vs Brake Pressure\n",
    "f2, axs = plt.subplots(2, 1, sharex=True)\n",
    "f2.set_figwidth(10)\n",
    "f2.set_figheight(5)\n",
    "axs[0].plot(rear_brake_pressure[:, 0], rear_brake_pressure[:, 1] / 1000, 'b', label=\"Rear Brake Pressure\")\n",
    "axs[0].plot(front_brake_pressure[:, 0], front_brake_pressure[:, 1] / 1000, 'r', label=\"Front Brake Pressure\")\n",
    "# ax.plot(front_brake_pressure[:, 0], front_brake_pressure[:, 1] / ( rear_brake_pressure[:, 1] + front_brake_pressure[:, 1]) , 'g', label=\"\")\n",
    "axs[0].legend()\n",
    "axs[0].set_ylabel(\"Pressure (Mpa)\")\n",
    "# axs[0].set_xlabel(\"Time (Seconds)\")\n",
    "\n",
    "axs[1].plot(accel_x[:, 0], accel_x[:, 1], 'b', label=\"Linear Accel, X\")\n",
    "axs[1].legend()\n",
    "axs[1].set_ylabel(\"Acceleration (m/s^2)\")\n",
    "axs[1].set_xlabel(\"Time (Seconds)\")\n",
    "# axs[1].set_ylim(15, -15)\n",
    "\n",
    "\n",
    "plt.show()"
   ]
  }
 ],
 "metadata": {
  "kernelspec": {
   "display_name": "Python 3",
   "language": "python",
   "name": "python3"
  },
  "language_info": {
   "codemirror_mode": {
    "name": "ipython",
    "version": 3
   },
   "file_extension": ".py",
   "mimetype": "text/x-python",
   "name": "python",
   "nbconvert_exporter": "python",
   "pygments_lexer": "ipython3",
   "version": "3.10.12"
  },
  "orig_nbformat": 4
 },
 "nbformat": 4,
 "nbformat_minor": 2
}
