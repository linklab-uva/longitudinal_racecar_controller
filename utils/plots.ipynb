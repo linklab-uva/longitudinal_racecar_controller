{
 "cells": [
  {
   "cell_type": "code",
   "execution_count": 1,
   "metadata": {},
   "outputs": [],
   "source": [
    "import pandas as pd\n",
    "import numpy as np\n",
    "from math import trunc\n",
    "import matplotlib.pyplot as plt\n",
    "%matplotlib qt\n",
    "import argparse, sys, os\n",
    "import pygeodesy\n",
    "from scipy.signal import butter, filtfilt, resample\n",
    "from scipy.spatial.distance import cdist\n",
    "from scipy.interpolate import make_interp_spline, make_smoothing_spline, BSpline\n",
    "from scipy.ndimage import uniform_filter1d, spline_filter1d\n",
    "from scipy.ndimage import gaussian_filter1d"
   ]
  },
  {
   "cell_type": "code",
   "execution_count": 2,
   "metadata": {},
   "outputs": [
    {
     "name": "stdout",
     "output_type": "stream",
     "text": [
      "['__time', '/raptor_dbw_interface/accelerator_pedal_report/control_type/value', '/raptor_dbw_interface/accelerator_pedal_report/driver_activity', '/raptor_dbw_interface/accelerator_pedal_report/enabled', '/raptor_dbw_interface/accelerator_pedal_report/fault_accel_pedal_system', '/raptor_dbw_interface/accelerator_pedal_report/fault_ch1', '/raptor_dbw_interface/accelerator_pedal_report/fault_ch2', '/raptor_dbw_interface/accelerator_pedal_report/header/stamp/nanosec', '/raptor_dbw_interface/accelerator_pedal_report/header/stamp/sec', '/raptor_dbw_interface/accelerator_pedal_report/ignore_driver', '/raptor_dbw_interface/accelerator_pedal_report/pedal_input', '/raptor_dbw_interface/accelerator_pedal_report/pedal_output', '/raptor_dbw_interface/accelerator_pedal_report/rolling_counter', '/raptor_dbw_interface/accelerator_pedal_report/torque_actual', '/raptor_dbw_interface/brake_2_report/estimated_road_slope', '/raptor_dbw_interface/brake_2_report/front_brake_pressure', '/raptor_dbw_interface/brake_2_report/header/stamp/nanosec', '/raptor_dbw_interface/brake_2_report/header/stamp/sec', '/raptor_dbw_interface/brake_2_report/rear_brake_pressure', '/raptor_dbw_interface/brake_2_report/rolling_counter', '/raptor_dbw_interface/brake_2_report/speed_set_point', '/raptor_dbw_interface/motec_report/ambient_temperature', '/raptor_dbw_interface/motec_report/boost_aim', '/raptor_dbw_interface/motec_report/boost_aim_state', '/raptor_dbw_interface/motec_report/boost_pressure', '/raptor_dbw_interface/motec_report/coolant_pressure_warning', '/raptor_dbw_interface/motec_report/coolant_temperature', '/raptor_dbw_interface/motec_report/coolant_temperature_warning', '/raptor_dbw_interface/motec_report/crankcase_pressure_warning', '/raptor_dbw_interface/motec_report/driver_switch_1', '/raptor_dbw_interface/motec_report/driver_switch_2', '/raptor_dbw_interface/motec_report/driver_switch_3', '/raptor_dbw_interface/motec_report/ecu_battery_voltage', '/raptor_dbw_interface/motec_report/ecu_up_time', '/raptor_dbw_interface/motec_report/engine_efficiency', '/raptor_dbw_interface/motec_report/engine_load', '/raptor_dbw_interface/motec_report/engine_oil_pressure', '/raptor_dbw_interface/motec_report/engine_oil_pressure_warning', '/raptor_dbw_interface/motec_report/engine_oil_temperature', '/raptor_dbw_interface/motec_report/engine_oil_temperature_warning', '/raptor_dbw_interface/motec_report/engine_run_time', '/raptor_dbw_interface/motec_report/engine_run_time_total', '/raptor_dbw_interface/motec_report/engine_speed', '/raptor_dbw_interface/motec_report/engine_speed_limit_state', '/raptor_dbw_interface/motec_report/engine_speed_reference_state', '/raptor_dbw_interface/motec_report/engine_speed_warning', '/raptor_dbw_interface/motec_report/engine_state', '/raptor_dbw_interface/motec_report/exhaust_lambda', '/raptor_dbw_interface/motec_report/fl_wheel_speed_sensor_fault', '/raptor_dbw_interface/motec_report/fr_wheel_speed_sensor_fault', '/raptor_dbw_interface/motec_report/fuel_pressure_direct_b1', '/raptor_dbw_interface/motec_report/fuel_pressure_direct_b1_aim', '/raptor_dbw_interface/motec_report/fuel_pressure_direct_b1_control', '/raptor_dbw_interface/motec_report/fuel_pressure_sensor', '/raptor_dbw_interface/motec_report/fuel_pressure_warning', '/raptor_dbw_interface/motec_report/fuel_pump_state', '/raptor_dbw_interface/motec_report/fuel_used', '/raptor_dbw_interface/motec_report/gear', '/raptor_dbw_interface/motec_report/gear_100hz', '/raptor_dbw_interface/motec_report/gear_shift', '/raptor_dbw_interface/motec_report/gear_shift_req', '/raptor_dbw_interface/motec_report/gearratio', '/raptor_dbw_interface/motec_report/header/stamp/nanosec', '/raptor_dbw_interface/motec_report/header/stamp/sec', '/raptor_dbw_interface/motec_report/inlet_air_temperature', '/raptor_dbw_interface/motec_report/inlet_manifold_pressure', '/raptor_dbw_interface/motec_report/knock_state', '/raptor_dbw_interface/motec_report/knock_warning', '/raptor_dbw_interface/motec_report/launch_state', '/raptor_dbw_interface/motec_report/rl_wheel_speed_sensor_fault', '/raptor_dbw_interface/motec_report/rr_wheel_speed_sensor_fault', '/raptor_dbw_interface/motec_report/throttle_aim_state', '/raptor_dbw_interface/motec_report/throttle_pedal', '/raptor_dbw_interface/motec_report/throttle_position', '/raptor_dbw_interface/motec_report/torque_wheels', '/raptor_dbw_interface/motec_report/vehicle_speed', '/raptor_dbw_interface/motec_report/warning_source', '/raptor_dbw_interface/motec_report/wheel_speed_front_left', '/raptor_dbw_interface/motec_report/wheel_speed_front_right', '/raptor_dbw_interface/motec_report/wheel_speed_rear_left', '/raptor_dbw_interface/motec_report/wheel_speed_rear_right', '/raptor_dbw_interface/tire_report/fl_damper_linear_potentiometer', '/raptor_dbw_interface/tire_report/fl_tire_pressure', '/raptor_dbw_interface/tire_report/fl_tire_pressure_gauge', '/raptor_dbw_interface/tire_report/fl_tire_temperature[0]', '/raptor_dbw_interface/tire_report/fl_tire_temperature[10]', '/raptor_dbw_interface/tire_report/fl_tire_temperature[11]', '/raptor_dbw_interface/tire_report/fl_tire_temperature[12]', '/raptor_dbw_interface/tire_report/fl_tire_temperature[13]', '/raptor_dbw_interface/tire_report/fl_tire_temperature[14]', '/raptor_dbw_interface/tire_report/fl_tire_temperature[15]', '/raptor_dbw_interface/tire_report/fl_tire_temperature[1]', '/raptor_dbw_interface/tire_report/fl_tire_temperature[2]', '/raptor_dbw_interface/tire_report/fl_tire_temperature[3]', '/raptor_dbw_interface/tire_report/fl_tire_temperature[4]', '/raptor_dbw_interface/tire_report/fl_tire_temperature[5]', '/raptor_dbw_interface/tire_report/fl_tire_temperature[6]', '/raptor_dbw_interface/tire_report/fl_tire_temperature[7]', '/raptor_dbw_interface/tire_report/fl_tire_temperature[8]', '/raptor_dbw_interface/tire_report/fl_tire_temperature[9]', '/raptor_dbw_interface/tire_report/fl_wheel_load', '/raptor_dbw_interface/tire_report/fr_damper_linear_potentiometer', '/raptor_dbw_interface/tire_report/fr_tire_pressure', '/raptor_dbw_interface/tire_report/fr_tire_pressure_gauge', '/raptor_dbw_interface/tire_report/fr_tire_temperature[0]', '/raptor_dbw_interface/tire_report/fr_tire_temperature[10]', '/raptor_dbw_interface/tire_report/fr_tire_temperature[11]', '/raptor_dbw_interface/tire_report/fr_tire_temperature[12]', '/raptor_dbw_interface/tire_report/fr_tire_temperature[13]', '/raptor_dbw_interface/tire_report/fr_tire_temperature[14]', '/raptor_dbw_interface/tire_report/fr_tire_temperature[15]', '/raptor_dbw_interface/tire_report/fr_tire_temperature[1]', '/raptor_dbw_interface/tire_report/fr_tire_temperature[2]', '/raptor_dbw_interface/tire_report/fr_tire_temperature[3]', '/raptor_dbw_interface/tire_report/fr_tire_temperature[4]', '/raptor_dbw_interface/tire_report/fr_tire_temperature[5]', '/raptor_dbw_interface/tire_report/fr_tire_temperature[6]', '/raptor_dbw_interface/tire_report/fr_tire_temperature[7]', '/raptor_dbw_interface/tire_report/fr_tire_temperature[8]', '/raptor_dbw_interface/tire_report/fr_tire_temperature[9]', '/raptor_dbw_interface/tire_report/fr_wheel_load', '/raptor_dbw_interface/tire_report/rl_damper_linear_potentiometer', '/raptor_dbw_interface/tire_report/rl_tire_pressure', '/raptor_dbw_interface/tire_report/rl_tire_pressure_gauge', '/raptor_dbw_interface/tire_report/rl_tire_temperature[0]', '/raptor_dbw_interface/tire_report/rl_tire_temperature[10]', '/raptor_dbw_interface/tire_report/rl_tire_temperature[11]', '/raptor_dbw_interface/tire_report/rl_tire_temperature[12]', '/raptor_dbw_interface/tire_report/rl_tire_temperature[13]', '/raptor_dbw_interface/tire_report/rl_tire_temperature[14]', '/raptor_dbw_interface/tire_report/rl_tire_temperature[15]', '/raptor_dbw_interface/tire_report/rl_tire_temperature[1]', '/raptor_dbw_interface/tire_report/rl_tire_temperature[2]', '/raptor_dbw_interface/tire_report/rl_tire_temperature[3]', '/raptor_dbw_interface/tire_report/rl_tire_temperature[4]', '/raptor_dbw_interface/tire_report/rl_tire_temperature[5]', '/raptor_dbw_interface/tire_report/rl_tire_temperature[6]', '/raptor_dbw_interface/tire_report/rl_tire_temperature[7]', '/raptor_dbw_interface/tire_report/rl_tire_temperature[8]', '/raptor_dbw_interface/tire_report/rl_tire_temperature[9]', '/raptor_dbw_interface/tire_report/rl_wheel_load', '/raptor_dbw_interface/tire_report/rr_damper_linear_potentiometer', '/raptor_dbw_interface/tire_report/rr_tire_pressure', '/raptor_dbw_interface/tire_report/rr_tire_pressure_gauge', '/raptor_dbw_interface/tire_report/rr_tire_temperature[0]', '/raptor_dbw_interface/tire_report/rr_tire_temperature[10]', '/raptor_dbw_interface/tire_report/rr_tire_temperature[11]', '/raptor_dbw_interface/tire_report/rr_tire_temperature[12]', '/raptor_dbw_interface/tire_report/rr_tire_temperature[13]', '/raptor_dbw_interface/tire_report/rr_tire_temperature[14]', '/raptor_dbw_interface/tire_report/rr_tire_temperature[15]', '/raptor_dbw_interface/tire_report/rr_tire_temperature[1]', '/raptor_dbw_interface/tire_report/rr_tire_temperature[2]', '/raptor_dbw_interface/tire_report/rr_tire_temperature[3]', '/raptor_dbw_interface/tire_report/rr_tire_temperature[4]', '/raptor_dbw_interface/tire_report/rr_tire_temperature[5]', '/raptor_dbw_interface/tire_report/rr_tire_temperature[6]', '/raptor_dbw_interface/tire_report/rr_tire_temperature[7]', '/raptor_dbw_interface/tire_report/rr_tire_temperature[8]', '/raptor_dbw_interface/tire_report/rr_tire_temperature[9]', '/raptor_dbw_interface/tire_report/rr_wheel_load', '/raptor_dbw_interface/tire_report/stamp/nanosec', '/raptor_dbw_interface/tire_report/stamp/sec', '/raptor_dbw_interface/wheel_speed_report/front_left', '/raptor_dbw_interface/wheel_speed_report/front_right', '/raptor_dbw_interface/wheel_speed_report/header/stamp/nanosec', '/raptor_dbw_interface/wheel_speed_report/header/stamp/sec', '/raptor_dbw_interface/wheel_speed_report/rear_left', '/raptor_dbw_interface/wheel_speed_report/rear_right']\n",
      "['__time', '/accel/filtered/accel/accel/angular/x', '/accel/filtered/accel/accel/angular/y', '/accel/filtered/accel/accel/angular/z', '/accel/filtered/accel/accel/linear/x', '/accel/filtered/accel/accel/linear/y', '/accel/filtered/accel/accel/linear/z', '/accel/filtered/accel/covariance[0]', '/accel/filtered/accel/covariance[10]', '/accel/filtered/accel/covariance[11]', '/accel/filtered/accel/covariance[12]', '/accel/filtered/accel/covariance[13]', '/accel/filtered/accel/covariance[14]', '/accel/filtered/accel/covariance[15]', '/accel/filtered/accel/covariance[16]', '/accel/filtered/accel/covariance[17]', '/accel/filtered/accel/covariance[18]', '/accel/filtered/accel/covariance[19]', '/accel/filtered/accel/covariance[1]', '/accel/filtered/accel/covariance[20]', '/accel/filtered/accel/covariance[21]', '/accel/filtered/accel/covariance[22]', '/accel/filtered/accel/covariance[23]', '/accel/filtered/accel/covariance[24]', '/accel/filtered/accel/covariance[25]', '/accel/filtered/accel/covariance[26]', '/accel/filtered/accel/covariance[27]', '/accel/filtered/accel/covariance[28]', '/accel/filtered/accel/covariance[29]', '/accel/filtered/accel/covariance[2]', '/accel/filtered/accel/covariance[30]', '/accel/filtered/accel/covariance[31]', '/accel/filtered/accel/covariance[32]', '/accel/filtered/accel/covariance[33]', '/accel/filtered/accel/covariance[34]', '/accel/filtered/accel/covariance[35]', '/accel/filtered/accel/covariance[3]', '/accel/filtered/accel/covariance[4]', '/accel/filtered/accel/covariance[5]', '/accel/filtered/accel/covariance[6]', '/accel/filtered/accel/covariance[7]', '/accel/filtered/accel/covariance[8]', '/accel/filtered/accel/covariance[9]', '/accel/filtered/header/stamp/nanosec', '/accel/filtered/header/stamp/sec', '/novatel_bottom/rawimu/angular_velocity/x', '/novatel_bottom/rawimu/angular_velocity/y', '/novatel_bottom/rawimu/angular_velocity/z', '/novatel_bottom/rawimu/gnss_seconds', '/novatel_bottom/rawimu/gnss_week', '/novatel_bottom/rawimu/header/stamp/nanosec', '/novatel_bottom/rawimu/header/stamp/sec', '/novatel_bottom/rawimu/linear_acceleration/x', '/novatel_bottom/rawimu/linear_acceleration/y', '/novatel_bottom/rawimu/linear_acceleration/z', '/novatel_bottom/rawimu/nov_header/gps_week_milliseconds', '/novatel_bottom/rawimu/nov_header/gps_week_number', '/novatel_bottom/rawimu/nov_header/idle_time', '/novatel_bottom/rawimu/nov_header/message_id', '/novatel_bottom/rawimu/nov_header/message_type', '/novatel_bottom/rawimu/nov_header/sequence_number', '/novatel_bottom/rawimu/nov_header/time_status', '/novatel_bottom/rawimu/status', '/vectornav/raw/attitude/accelned/x', '/vectornav/raw/attitude/accelned/y', '/vectornav/raw/attitude/accelned/z', '/vectornav/raw/attitude/dcm[0]', '/vectornav/raw/attitude/dcm[1]', '/vectornav/raw/attitude/dcm[2]', '/vectornav/raw/attitude/dcm[3]', '/vectornav/raw/attitude/dcm[4]', '/vectornav/raw/attitude/dcm[5]', '/vectornav/raw/attitude/dcm[6]', '/vectornav/raw/attitude/dcm[7]', '/vectornav/raw/attitude/dcm[8]', '/vectornav/raw/attitude/group_fields', '/vectornav/raw/attitude/header/stamp/nanosec', '/vectornav/raw/attitude/header/stamp/sec', '/vectornav/raw/attitude/linearaccelbody/x', '/vectornav/raw/attitude/linearaccelbody/y', '/vectornav/raw/attitude/linearaccelbody/z', '/vectornav/raw/attitude/linearaccelned/x', '/vectornav/raw/attitude/linearaccelned/y', '/vectornav/raw/attitude/linearaccelned/z', '/vectornav/raw/attitude/magned/x', '/vectornav/raw/attitude/magned/y', '/vectornav/raw/attitude/magned/z', '/vectornav/raw/attitude/quaternion/pitch_deg', '/vectornav/raw/attitude/quaternion/roll_deg', '/vectornav/raw/attitude/quaternion/w', '/vectornav/raw/attitude/quaternion/x', '/vectornav/raw/attitude/quaternion/y', '/vectornav/raw/attitude/quaternion/yaw_deg', '/vectornav/raw/attitude/quaternion/z', '/vectornav/raw/attitude/vpestatus/acc_disturbance', '/vectornav/raw/attitude/vpestatus/acc_saturation', '/vectornav/raw/attitude/vpestatus/attitude_quality', '/vectornav/raw/attitude/vpestatus/gyro_saturation', '/vectornav/raw/attitude/vpestatus/gyro_saturation_recovery', '/vectornav/raw/attitude/vpestatus/known_accel_disturbance', '/vectornav/raw/attitude/vpestatus/known_mag_disturbance', '/vectornav/raw/attitude/vpestatus/mag_disturbance', '/vectornav/raw/attitude/vpestatus/mag_saturation', '/vectornav/raw/attitude/yawpitchroll/x', '/vectornav/raw/attitude/yawpitchroll/y', '/vectornav/raw/attitude/yawpitchroll/z', '/vectornav/raw/attitude/ypru/x', '/vectornav/raw/attitude/ypru/y', '/vectornav/raw/attitude/ypru/z', '/vectornav/raw/ins/accelecef/x', '/vectornav/raw/ins/accelecef/y', '/vectornav/raw/ins/accelecef/z', '/vectornav/raw/ins/group_fields', '/vectornav/raw/ins/header/stamp/nanosec', '/vectornav/raw/ins/header/stamp/sec', '/vectornav/raw/ins/insstatus/gps_compass', '/vectornav/raw/ins/insstatus/gps_error', '/vectornav/raw/ins/insstatus/gps_fix', '/vectornav/raw/ins/insstatus/gps_heading_ins', '/vectornav/raw/ins/insstatus/imu_error', '/vectornav/raw/ins/insstatus/mag_pres_error', '/vectornav/raw/ins/insstatus/mode', '/vectornav/raw/ins/insstatus/time_error', '/vectornav/raw/ins/linearaccelecef/x', '/vectornav/raw/ins/linearaccelecef/y', '/vectornav/raw/ins/linearaccelecef/z', '/vectornav/raw/ins/magecef/x', '/vectornav/raw/ins/magecef/y', '/vectornav/raw/ins/magecef/z', '/vectornav/raw/ins/posecef/x', '/vectornav/raw/ins/posecef/y', '/vectornav/raw/ins/posecef/z', '/vectornav/raw/ins/poslla/x', '/vectornav/raw/ins/poslla/y', '/vectornav/raw/ins/poslla/z', '/vectornav/raw/ins/posu', '/vectornav/raw/ins/velbody/x', '/vectornav/raw/ins/velbody/y', '/vectornav/raw/ins/velbody/z', '/vectornav/raw/ins/velecef/x', '/vectornav/raw/ins/velecef/y', '/vectornav/raw/ins/velecef/z', '/vectornav/raw/ins/velned/x', '/vectornav/raw/ins/velned/y', '/vectornav/raw/ins/velned/z', '/vectornav/raw/ins/velu']\n"
     ]
    }
   ],
   "source": [
    "# current_path = os.path.dirname(__file__)\n",
    "\n",
    "#put your relative path to the csv files\n",
    "raptor_msgs = pd.read_csv('../data/pp_run4_2_raptor.csv')\n",
    "imu_msgs = pd.read_csv('../data/pp_run4_2_imu.csv')\n",
    "print(list(raptor_msgs.columns))\n",
    "print(list(imu_msgs.columns))\n"
   ]
  },
  {
   "cell_type": "code",
   "execution_count": 3,
   "metadata": {},
   "outputs": [],
   "source": [
    "def normalize_data(input_times, data):\n",
    "    input_times = input_times[~np.isnan(data)]\n",
    "    data = data[~np.isnan(data)]\n",
    "    return np.column_stack([input_times, data])"
   ]
  },
  {
   "cell_type": "code",
   "execution_count": 4,
   "metadata": {},
   "outputs": [
    {
     "ename": "KeyError",
     "evalue": "'/vehicle/desired_velocity_readout/data'",
     "output_type": "error",
     "traceback": [
      "\u001b[0;31m---------------------------------------------------------------------------\u001b[0m",
      "\u001b[0;31mKeyError\u001b[0m                                  Traceback (most recent call last)",
      "File \u001b[0;32m~/.local/lib/python3.10/site-packages/pandas/core/indexes/base.py:3802\u001b[0m, in \u001b[0;36mIndex.get_loc\u001b[0;34m(self, key, method, tolerance)\u001b[0m\n\u001b[1;32m   3801\u001b[0m \u001b[39mtry\u001b[39;00m:\n\u001b[0;32m-> 3802\u001b[0m     \u001b[39mreturn\u001b[39;00m \u001b[39mself\u001b[39;49m\u001b[39m.\u001b[39;49m_engine\u001b[39m.\u001b[39;49mget_loc(casted_key)\n\u001b[1;32m   3803\u001b[0m \u001b[39mexcept\u001b[39;00m \u001b[39mKeyError\u001b[39;00m \u001b[39mas\u001b[39;00m err:\n",
      "File \u001b[0;32m~/.local/lib/python3.10/site-packages/pandas/_libs/index.pyx:138\u001b[0m, in \u001b[0;36mpandas._libs.index.IndexEngine.get_loc\u001b[0;34m()\u001b[0m\n",
      "File \u001b[0;32m~/.local/lib/python3.10/site-packages/pandas/_libs/index.pyx:165\u001b[0m, in \u001b[0;36mpandas._libs.index.IndexEngine.get_loc\u001b[0;34m()\u001b[0m\n",
      "File \u001b[0;32mpandas/_libs/hashtable_class_helper.pxi:5745\u001b[0m, in \u001b[0;36mpandas._libs.hashtable.PyObjectHashTable.get_item\u001b[0;34m()\u001b[0m\n",
      "File \u001b[0;32mpandas/_libs/hashtable_class_helper.pxi:5753\u001b[0m, in \u001b[0;36mpandas._libs.hashtable.PyObjectHashTable.get_item\u001b[0;34m()\u001b[0m\n",
      "\u001b[0;31mKeyError\u001b[0m: '/vehicle/desired_velocity_readout/data'",
      "\nThe above exception was the direct cause of the following exception:\n",
      "\u001b[0;31mKeyError\u001b[0m                                  Traceback (most recent call last)",
      "Cell \u001b[0;32mIn[4], line 12\u001b[0m\n\u001b[1;32m      9\u001b[0m rear_left_wheel_speed \u001b[39m=\u001b[39m np\u001b[39m.\u001b[39marray(raptor_msgs[\u001b[39m'\u001b[39m\u001b[39m/raptor_dbw_interface/wheel_speed_report/rear_left\u001b[39m\u001b[39m'\u001b[39m])\n\u001b[1;32m     11\u001b[0m rear_avg_wheel_speed \u001b[39m=\u001b[39m (rear_right_wheel_speed \u001b[39m+\u001b[39m rear_left_wheel_speed) \u001b[39m/\u001b[39m \u001b[39m2\u001b[39m\n\u001b[0;32m---> 12\u001b[0m desired_vel \u001b[39m=\u001b[39m np\u001b[39m.\u001b[39marray(imu_msgs[\u001b[39m'\u001b[39;49m\u001b[39m/vehicle/desired_velocity_readout/data\u001b[39;49m\u001b[39m'\u001b[39;49m])\n\u001b[1;32m     13\u001b[0m rear_avg_wheel_speed \u001b[39m=\u001b[39m normalize_data(raptor_times, rear_avg_wheel_speed \u001b[39m*\u001b[39m KPH2MPH)\n\u001b[1;32m     14\u001b[0m desired_vel \u001b[39m=\u001b[39m normalize_data(imu_times, desired_vel)\n",
      "File \u001b[0;32m~/.local/lib/python3.10/site-packages/pandas/core/frame.py:3807\u001b[0m, in \u001b[0;36mDataFrame.__getitem__\u001b[0;34m(self, key)\u001b[0m\n\u001b[1;32m   3805\u001b[0m \u001b[39mif\u001b[39;00m \u001b[39mself\u001b[39m\u001b[39m.\u001b[39mcolumns\u001b[39m.\u001b[39mnlevels \u001b[39m>\u001b[39m \u001b[39m1\u001b[39m:\n\u001b[1;32m   3806\u001b[0m     \u001b[39mreturn\u001b[39;00m \u001b[39mself\u001b[39m\u001b[39m.\u001b[39m_getitem_multilevel(key)\n\u001b[0;32m-> 3807\u001b[0m indexer \u001b[39m=\u001b[39m \u001b[39mself\u001b[39;49m\u001b[39m.\u001b[39;49mcolumns\u001b[39m.\u001b[39;49mget_loc(key)\n\u001b[1;32m   3808\u001b[0m \u001b[39mif\u001b[39;00m is_integer(indexer):\n\u001b[1;32m   3809\u001b[0m     indexer \u001b[39m=\u001b[39m [indexer]\n",
      "File \u001b[0;32m~/.local/lib/python3.10/site-packages/pandas/core/indexes/base.py:3804\u001b[0m, in \u001b[0;36mIndex.get_loc\u001b[0;34m(self, key, method, tolerance)\u001b[0m\n\u001b[1;32m   3802\u001b[0m     \u001b[39mreturn\u001b[39;00m \u001b[39mself\u001b[39m\u001b[39m.\u001b[39m_engine\u001b[39m.\u001b[39mget_loc(casted_key)\n\u001b[1;32m   3803\u001b[0m \u001b[39mexcept\u001b[39;00m \u001b[39mKeyError\u001b[39;00m \u001b[39mas\u001b[39;00m err:\n\u001b[0;32m-> 3804\u001b[0m     \u001b[39mraise\u001b[39;00m \u001b[39mKeyError\u001b[39;00m(key) \u001b[39mfrom\u001b[39;00m \u001b[39merr\u001b[39;00m\n\u001b[1;32m   3805\u001b[0m \u001b[39mexcept\u001b[39;00m \u001b[39mTypeError\u001b[39;00m:\n\u001b[1;32m   3806\u001b[0m     \u001b[39m# If we have a listlike key, _check_indexing_error will raise\u001b[39;00m\n\u001b[1;32m   3807\u001b[0m     \u001b[39m#  InvalidIndexError. Otherwise we fall through and re-raise\u001b[39;00m\n\u001b[1;32m   3808\u001b[0m     \u001b[39m#  the TypeError.\u001b[39;00m\n\u001b[1;32m   3809\u001b[0m     \u001b[39mself\u001b[39m\u001b[39m.\u001b[39m_check_indexing_error(key)\n",
      "\u001b[0;31mKeyError\u001b[0m: '/vehicle/desired_velocity_readout/data'"
     ]
    }
   ],
   "source": [
    "raptor_times = np.array(raptor_msgs['__time'])\n",
    "imu_times = np.array(imu_msgs['__time'])\n",
    "\n",
    "raptor_times = np.round(raptor_times - raptor_times[0], 3)\n",
    "imu_times = np.round(imu_times - imu_times[0], 3)\n",
    "\n",
    "KPH2MPH = 0.621371\n",
    "rear_right_wheel_speed = np.array(raptor_msgs['/raptor_dbw_interface/wheel_speed_report/rear_right'])\n",
    "rear_left_wheel_speed = np.array(raptor_msgs['/raptor_dbw_interface/wheel_speed_report/rear_left'])\n",
    "\n",
    "rear_avg_wheel_speed = (rear_right_wheel_speed + rear_left_wheel_speed) / 2\n",
    "desired_vel = np.array(imu_msgs['/vehicle/desired_velocity_readout/data'])\n",
    "rear_avg_wheel_speed = normalize_data(raptor_times, rear_avg_wheel_speed * KPH2MPH)\n",
    "desired_vel = normalize_data(imu_times, desired_vel)\n",
    "\n",
    "filtered_rear_avg_wheel_speed = np.array(rear_avg_wheel_speed)\n",
    "filtered_rear_avg_wheel_speed[:, 1] = gaussian_filter1d(rear_avg_wheel_speed[:, 1], 10)"
   ]
  },
  {
   "cell_type": "code",
   "execution_count": 5,
   "metadata": {},
   "outputs": [
    {
     "ename": "IndexError",
     "evalue": "too many indices for array: array is 1-dimensional, but 2 were indexed",
     "output_type": "error",
     "traceback": [
      "\u001b[0;31m---------------------------------------------------------------------------\u001b[0m",
      "\u001b[0;31mIndexError\u001b[0m                                Traceback (most recent call last)",
      "Cell \u001b[0;32mIn[5], line 5\u001b[0m\n\u001b[1;32m      3\u001b[0m f2\u001b[39m.\u001b[39mset_figwidth(\u001b[39m10\u001b[39m)\n\u001b[1;32m      4\u001b[0m f2\u001b[39m.\u001b[39mset_figheight(\u001b[39m5\u001b[39m)\n\u001b[0;32m----> 5\u001b[0m axs[\u001b[39m0\u001b[39m]\u001b[39m.\u001b[39mscatter(rear_avg_wheel_speed[:, \u001b[39m0\u001b[39;49m], rear_avg_wheel_speed[:, \u001b[39m1\u001b[39m], s\u001b[39m=\u001b[39m\u001b[39m.5\u001b[39m, alpha\u001b[39m=\u001b[39m\u001b[39m0.5\u001b[39m, c\u001b[39m=\u001b[39m\u001b[39m'\u001b[39m\u001b[39morange\u001b[39m\u001b[39m'\u001b[39m, label\u001b[39m=\u001b[39m\u001b[39m\"\u001b[39m\u001b[39mRear Avg Velocity\u001b[39m\u001b[39m\"\u001b[39m)\n\u001b[1;32m      6\u001b[0m axs[\u001b[39m0\u001b[39m]\u001b[39m.\u001b[39mplot(filtered_rear_avg_wheel_speed[:, \u001b[39m0\u001b[39m], filtered_rear_avg_wheel_speed[:, \u001b[39m1\u001b[39m], \u001b[39m'\u001b[39m\u001b[39mb\u001b[39m\u001b[39m'\u001b[39m, label\u001b[39m=\u001b[39m\u001b[39m\"\u001b[39m\u001b[39mFiltered Velocity\u001b[39m\u001b[39m\"\u001b[39m)\n\u001b[1;32m      7\u001b[0m axs[\u001b[39m0\u001b[39m]\u001b[39m.\u001b[39mplot(desired_vel[:, \u001b[39m0\u001b[39m], desired_vel[:, \u001b[39m1\u001b[39m], \u001b[39m'\u001b[39m\u001b[39mr\u001b[39m\u001b[39m'\u001b[39m, label\u001b[39m=\u001b[39m\u001b[39m\"\u001b[39m\u001b[39mDesired Velocity\u001b[39m\u001b[39m\"\u001b[39m)\n",
      "\u001b[0;31mIndexError\u001b[0m: too many indices for array: array is 1-dimensional, but 2 were indexed"
     ]
    }
   ],
   "source": [
    "#Wheel speed with residuals\n",
    "f2, axs = plt.subplots(2, 1, sharex=True)\n",
    "f2.set_figwidth(10)\n",
    "f2.set_figheight(5)\n",
    "axs[0].scatter(rear_avg_wheel_speed[:, 0], rear_avg_wheel_speed[:, 1], s=.5, alpha=0.5, c='orange', label=\"Rear Avg Velocity\")\n",
    "axs[0].plot(filtered_rear_avg_wheel_speed[:, 0], filtered_rear_avg_wheel_speed[:, 1], 'b', label=\"Filtered Velocity\")\n",
    "axs[0].plot(desired_vel[:, 0], desired_vel[:, 1], 'r', label=\"Desired Velocity\")\n",
    "axs[0].legend()\n",
    "axs[0].set_ylabel(\"Speed (MPH)\")\n",
    "\n",
    "axs[1].plot(filtered_rear_avg_wheel_speed[4:-2, 0], desired_vel[:, 1] - filtered_rear_avg_wheel_speed[4:-2, 1], 'b', label=\"Filtered Velocity\")\n",
    "axs[1].legend()\n",
    "axs[1].set_ylabel(\"Speed (MPH)\")\n",
    "axs[1].set_xlabel(\"Time (Seconds)\")\n",
    "axs[1].set_ylim(15, -15)\n",
    "\n",
    "# print(len(filtered_rear_avg_wheel_speed[4:-2, 0]))\n",
    "# print(len(desired_vel[:, 0]))\n",
    "plt.show()"
   ]
  },
  {
   "cell_type": "code",
   "execution_count": 26,
   "metadata": {},
   "outputs": [],
   "source": [
    "rear_brake_pressure = normalize_data(raptor_times, np.array(raptor_msgs['/raptor_dbw_interface/brake_2_report/rear_brake_pressure']))\n",
    "front_brake_pressure = normalize_data(raptor_times, np.array(raptor_msgs['/raptor_dbw_interface/brake_2_report/front_brake_pressure']))\n",
    "accel_x = normalize_data(imu_times, np.array(imu_msgs['/accel/filtered/accel/accel/linear/x']))\n",
    "v_accel_x = normalize_data(imu_times, np.array(imu_msgs['/vectornav/raw/attitude/linearaccelbody/x']))\n",
    "\n",
    "#Deceleration vs Brake Pressure\n",
    "start = 137000\n",
    "stop = -25000\n",
    "f2, axs = plt.subplots(2, 1, sharex=True)\n",
    "f2.set_figwidth(10)\n",
    "f2.set_figheight(5)\n",
    "axs[0].plot(rear_brake_pressure[start:stop, 0], rear_brake_pressure[start:stop, 1] / 1000, 'b', linewidth=0.5, label=\"Rear Brake Pressure\")\n",
    "axs[0].plot(front_brake_pressure[start:stop, 0], front_brake_pressure[start:stop, 1] / 1000, 'r', linewidth=0.5, label=\"Front Brake Pressure\")\n",
    "# ax.plot(front_brake_pressure[:, 0], front_brake_pressure[:, 1] / ( rear_brake_pressure[:, 1] + front_brake_pressure[:, 1]) , 'g', label=\"\")\n",
    "axs[0].legend()\n",
    "axs[0].set_ylabel(\"Pressure (Mpa)\")\n",
    "# axs[0].set_xlabel(\"Time (Seconds)\")\n",
    "\n",
    "axs[1].plot(accel_x[start:stop, 0], accel_x[start:stop, 1], 'b', linewidth=0.5, label=\"Linear Accel, X\")\n",
    "axs[1].plot(v_accel_x[start:stop, 0], gaussian_filter1d(v_accel_x[start:stop, 1],20), 'r', linewidth=0.5, label=\"Vectornav Accel, X\")\n",
    "axs[1].legend()\n",
    "axs[1].set_ylabel(\"Acceleration (m/s^2)\")\n",
    "axs[1].set_xlabel(\"Time (Seconds)\")\n",
    "# axs[1].set_ylim(15, -15)\n",
    "plt.savefig(\"/mnt/c/Users/johnl/OneDrive/College/!Current Semester/CS Research/pp_brake_pressure.pdf\", format='pdf', dpi=20000)\n",
    "\n",
    "plt.show()"
   ]
  },
  {
   "cell_type": "code",
   "execution_count": 7,
   "metadata": {},
   "outputs": [
    {
     "ename": "NameError",
     "evalue": "name 'filtered_rear_avg_wheel_speed' is not defined",
     "output_type": "error",
     "traceback": [
      "\u001b[0;31m---------------------------------------------------------------------------\u001b[0m",
      "\u001b[0;31mNameError\u001b[0m                                 Traceback (most recent call last)",
      "Cell \u001b[0;32mIn[7], line 11\u001b[0m\n\u001b[1;32m      9\u001b[0m MPH2MS \u001b[39m=\u001b[39m \u001b[39m0.44704\u001b[39m\n\u001b[1;32m     10\u001b[0m axs[\u001b[39m0\u001b[39m]\u001b[39m.\u001b[39mscatter(thr[start:stop, \u001b[39m0\u001b[39m], thr[start:stop, \u001b[39m1\u001b[39m] , s\u001b[39m=\u001b[39m\u001b[39m.5\u001b[39m, alpha\u001b[39m=\u001b[39m\u001b[39m.5\u001b[39m, c\u001b[39m=\u001b[39m\u001b[39m'\u001b[39m\u001b[39morange\u001b[39m\u001b[39m'\u001b[39m, label\u001b[39m=\u001b[39m\u001b[39m\"\u001b[39m\u001b[39mUnfiltered Throttle\u001b[39m\u001b[39m\"\u001b[39m)\n\u001b[0;32m---> 11\u001b[0m axs[\u001b[39m0\u001b[39m]\u001b[39m.\u001b[39mplot(filtered_rear_avg_wheel_speed[start:stop, \u001b[39m0\u001b[39m], filtered_rear_avg_wheel_speed[start:stop, \u001b[39m1\u001b[39m] \u001b[39m*\u001b[39m MPH2MS, \u001b[39m'\u001b[39m\u001b[39morange\u001b[39m\u001b[39m'\u001b[39m, label\u001b[39m=\u001b[39m\u001b[39m\"\u001b[39m\u001b[39mVelocity\u001b[39m\u001b[39m\"\u001b[39m)\n\u001b[1;32m     12\u001b[0m axs[\u001b[39m0\u001b[39m]\u001b[39m.\u001b[39mplot(thr[start:stop, \u001b[39m0\u001b[39m], gaussian_filter1d(thr[start:stop, \u001b[39m1\u001b[39m], \u001b[39m5\u001b[39m), \u001b[39m'\u001b[39m\u001b[39mb\u001b[39m\u001b[39m'\u001b[39m, label\u001b[39m=\u001b[39m\u001b[39m\"\u001b[39m\u001b[39mThrottle\u001b[39m\u001b[39m\"\u001b[39m)\n\u001b[1;32m     13\u001b[0m axs[\u001b[39m0\u001b[39m]\u001b[39m.\u001b[39mset_ylim(\u001b[39m0\u001b[39m, \u001b[39m100\u001b[39m)\n",
      "\u001b[0;31mNameError\u001b[0m: name 'filtered_rear_avg_wheel_speed' is not defined"
     ]
    }
   ],
   "source": [
    "\n",
    "thr = normalize_data(raptor_times, np.array(raptor_msgs['/raptor_dbw_interface/accelerator_pedal_report/pedal_output']))\n",
    "gear = normalize_data(raptor_times, np.array(raptor_msgs['/raptor_dbw_interface/motec_report/gear']))\n",
    "#Deceleration vs Brake Pressure\n",
    "start = 60000\n",
    "stop = -85000\n",
    "f2, axs = plt.subplots(2, 1, sharex=True)\n",
    "f2.set_figwidth(10)\n",
    "f2.set_figheight(5)\n",
    "MPH2MS = 0.44704\n",
    "axs[0].scatter(thr[start:stop, 0], thr[start:stop, 1] , s=.5, alpha=.5, c='orange', label=\"Unfiltered Throttle\")\n",
    "axs[0].plot(filtered_rear_avg_wheel_speed[start:stop, 0], filtered_rear_avg_wheel_speed[start:stop, 1] * MPH2MS, 'orange', label=\"Velocity\")\n",
    "axs[0].plot(thr[start:stop, 0], gaussian_filter1d(thr[start:stop, 1], 5), 'b', label=\"Throttle\")\n",
    "axs[0].set_ylim(0, 100)\n",
    "axs[0].legend()\n",
    "axs[0].set_ylabel(\"% and m/s\")\n",
    "# axs[0].set_xlabel(\"Time (Seconds)\")\n",
    "\n",
    "axs[1].plot(gear[start:stop, 0], gear[start:stop, 1], 'r', label=\"Gear\")\n",
    "axs[1].legend()\n",
    "axs[1].set_ylabel(\"Gear\")\n",
    "axs[1].set_xlabel(\"Time (Seconds)\")\n",
    "axs[1].set_ylim(0, 6)\n",
    "plt.savefig(\"/mnt/c/Users/johnl/OneDrive/College/!Current Semester/CS Research/lvms_brake_throttle_percent.pdf\", format='pdf', dpi=20000)\n",
    "\n",
    "\n",
    "plt.show()"
   ]
  }
 ],
 "metadata": {
  "kernelspec": {
   "display_name": "Python 3",
   "language": "python",
   "name": "python3"
  },
  "language_info": {
   "codemirror_mode": {
    "name": "ipython",
    "version": 3
   },
   "file_extension": ".py",
   "mimetype": "text/x-python",
   "name": "python",
   "nbconvert_exporter": "python",
   "pygments_lexer": "ipython3",
   "version": "3.10.12"
  },
  "orig_nbformat": 4
 },
 "nbformat": 4,
 "nbformat_minor": 2
}
